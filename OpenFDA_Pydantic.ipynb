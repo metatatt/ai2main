{
  "cells": [
    {
      "cell_type": "markdown",
      "metadata": {
        "id": "view-in-github",
        "colab_type": "text"
      },
      "source": [
        "<a href=\"https://colab.research.google.com/github/metatatt/ai2main/blob/main/OpenFDA_Pydantic.ipynb\" target=\"_parent\"><img src=\"https://colab.research.google.com/assets/colab-badge.svg\" alt=\"Open In Colab\"/></a>"
      ]
    },
    {
      "cell_type": "markdown",
      "id": "329524f0-0834-42cd-88a0-0b097b3509cf",
      "metadata": {
        "id": "329524f0-0834-42cd-88a0-0b097b3509cf"
      },
      "source": [
        "# Function Calling with Structured Output"
      ]
    },
    {
      "cell_type": "markdown",
      "id": "d489326e-d7bb-442b-87b6-b8fc3faf0bd1",
      "metadata": {
        "id": "d489326e-d7bb-442b-87b6-b8fc3faf0bd1"
      },
      "source": [
        "### Install Required Libraries"
      ]
    },
    {
      "cell_type": "code",
      "execution_count": null,
      "id": "83d8f219-9d49-4b64-a525-daad095dbed5",
      "metadata": {
        "colab": {
          "base_uri": "https://localhost:8080/"
        },
        "id": "83d8f219-9d49-4b64-a525-daad095dbed5",
        "outputId": "379740f8-aa87-4c8e-df76-485cbf1032e5"
      },
      "outputs": [
        {
          "output_type": "stream",
          "name": "stdout",
          "text": [
            "\u001b[?25l   \u001b[90m━━━━━━━━━━━━━━━━━━━━━━━━━━━━━━━━━━━━━━━━\u001b[0m \u001b[32m0.0/373.5 kB\u001b[0m \u001b[31m?\u001b[0m eta \u001b[36m-:--:--\u001b[0m\r\u001b[2K   \u001b[90m━━━━━━━━━━━━━━━━━━━━━━━━━━━━━━━━━━━━━━━━\u001b[0m \u001b[32m373.5/373.5 kB\u001b[0m \u001b[31m13.3 MB/s\u001b[0m eta \u001b[36m0:00:00\u001b[0m\n",
            "\u001b[?25h\u001b[?25l   \u001b[90m━━━━━━━━━━━━━━━━━━━━━━━━━━━━━━━━━━━━━━━━\u001b[0m \u001b[32m0.0/76.4 kB\u001b[0m \u001b[31m?\u001b[0m eta \u001b[36m-:--:--\u001b[0m\r\u001b[2K   \u001b[90m━━━━━━━━━━━━━━━━━━━━━━━━━━━━━━━━━━━━━━━━\u001b[0m \u001b[32m76.4/76.4 kB\u001b[0m \u001b[31m6.2 MB/s\u001b[0m eta \u001b[36m0:00:00\u001b[0m\n",
            "\u001b[?25h\u001b[?25l   \u001b[90m━━━━━━━━━━━━━━━━━━━━━━━━━━━━━━━━━━━━━━━━\u001b[0m \u001b[32m0.0/77.9 kB\u001b[0m \u001b[31m?\u001b[0m eta \u001b[36m-:--:--\u001b[0m\r\u001b[2K   \u001b[90m━━━━━━━━━━━━━━━━━━━━━━━━━━━━━━━━━━━━━━━━\u001b[0m \u001b[32m77.9/77.9 kB\u001b[0m \u001b[31m6.0 MB/s\u001b[0m eta \u001b[36m0:00:00\u001b[0m\n",
            "\u001b[2K   \u001b[90m━━━━━━━━━━━━━━━━━━━━━━━━━━━━━━━━━━━━━━━━\u001b[0m \u001b[32m318.9/318.9 kB\u001b[0m \u001b[31m23.3 MB/s\u001b[0m eta \u001b[36m0:00:00\u001b[0m\n",
            "\u001b[2K   \u001b[90m━━━━━━━━━━━━━━━━━━━━━━━━━━━━━━━━━━━━━━━━\u001b[0m \u001b[32m58.3/58.3 kB\u001b[0m \u001b[31m4.1 MB/s\u001b[0m eta \u001b[36m0:00:00\u001b[0m\n",
            "\u001b[?25h"
          ]
        }
      ],
      "source": [
        "!pip install -q openai\n",
        "!pip install newsapi-python -q"
      ]
    },
    {
      "cell_type": "markdown",
      "id": "c9f25c6f-c5d0-4348-8293-99097a96fb2c",
      "metadata": {
        "id": "c9f25c6f-c5d0-4348-8293-99097a96fb2c"
      },
      "source": [
        "### Upgrade Existing Installation"
      ]
    },
    {
      "cell_type": "code",
      "execution_count": null,
      "id": "856e328b-b063-42ee-a1fe-0951c064e890",
      "metadata": {
        "colab": {
          "base_uri": "https://localhost:8080/"
        },
        "id": "856e328b-b063-42ee-a1fe-0951c064e890",
        "outputId": "278810d7-13b4-4e66-b335-65578c60f950"
      },
      "outputs": [
        {
          "output_type": "stream",
          "name": "stdout",
          "text": [
            "Requirement already satisfied: openai in /usr/local/lib/python3.10/dist-packages (1.44.1)\n",
            "Requirement already satisfied: anyio<5,>=3.5.0 in /usr/local/lib/python3.10/dist-packages (from openai) (3.7.1)\n",
            "Requirement already satisfied: distro<2,>=1.7.0 in /usr/lib/python3/dist-packages (from openai) (1.7.0)\n",
            "Requirement already satisfied: httpx<1,>=0.23.0 in /usr/local/lib/python3.10/dist-packages (from openai) (0.27.2)\n",
            "Requirement already satisfied: jiter<1,>=0.4.0 in /usr/local/lib/python3.10/dist-packages (from openai) (0.5.0)\n",
            "Requirement already satisfied: pydantic<3,>=1.9.0 in /usr/local/lib/python3.10/dist-packages (from openai) (2.8.2)\n",
            "Requirement already satisfied: sniffio in /usr/local/lib/python3.10/dist-packages (from openai) (1.3.1)\n",
            "Requirement already satisfied: tqdm>4 in /usr/local/lib/python3.10/dist-packages (from openai) (4.66.5)\n",
            "Requirement already satisfied: typing-extensions<5,>=4.11 in /usr/local/lib/python3.10/dist-packages (from openai) (4.12.2)\n",
            "Requirement already satisfied: idna>=2.8 in /usr/local/lib/python3.10/dist-packages (from anyio<5,>=3.5.0->openai) (3.8)\n",
            "Requirement already satisfied: exceptiongroup in /usr/local/lib/python3.10/dist-packages (from anyio<5,>=3.5.0->openai) (1.2.2)\n",
            "Requirement already satisfied: certifi in /usr/local/lib/python3.10/dist-packages (from httpx<1,>=0.23.0->openai) (2024.8.30)\n",
            "Requirement already satisfied: httpcore==1.* in /usr/local/lib/python3.10/dist-packages (from httpx<1,>=0.23.0->openai) (1.0.5)\n",
            "Requirement already satisfied: h11<0.15,>=0.13 in /usr/local/lib/python3.10/dist-packages (from httpcore==1.*->httpx<1,>=0.23.0->openai) (0.14.0)\n",
            "Requirement already satisfied: annotated-types>=0.4.0 in /usr/local/lib/python3.10/dist-packages (from pydantic<3,>=1.9.0->openai) (0.7.0)\n",
            "Requirement already satisfied: pydantic-core==2.20.1 in /usr/local/lib/python3.10/dist-packages (from pydantic<3,>=1.9.0->openai) (2.20.1)\n"
          ]
        }
      ],
      "source": [
        "!pip install openai -U"
      ]
    },
    {
      "cell_type": "markdown",
      "id": "50c01d00-08af-4537-878e-7bcc7b394894",
      "metadata": {
        "id": "50c01d00-08af-4537-878e-7bcc7b394894"
      },
      "source": [
        "### Load Environment Variables"
      ]
    },
    {
      "cell_type": "code",
      "execution_count": null,
      "id": "80f44716-cc29-41b8-a1ff-4c7622ac5267",
      "metadata": {
        "id": "80f44716-cc29-41b8-a1ff-4c7622ac5267"
      },
      "outputs": [],
      "source": [
        "from google.colab import userdata\n",
        "import os\n",
        "os.environ['GROQ_API_KEY'] = userdata.get('GROQ_API_KEY')\n",
        "os.environ['OPENAI_API_KEY'] = userdata.get('OPENAI_API_KEY')\n",
        "os.environ['NEWSAPI_KEY'] = userdata.get('NEWSAPI_KEY')"
      ]
    },
    {
      "cell_type": "markdown",
      "id": "7da22e9c-7484-4acc-b2d4-6b4cbec0765e",
      "metadata": {
        "id": "7da22e9c-7484-4acc-b2d4-6b4cbec0765e"
      },
      "source": [
        "# News Articles Summarization"
      ]
    },
    {
      "cell_type": "markdown",
      "id": "c826cab2-2ba4-4831-a4e5-756429d220e9",
      "metadata": {
        "id": "c826cab2-2ba4-4831-a4e5-756429d220e9"
      },
      "source": [
        "### Import Required Libraries"
      ]
    },
    {
      "cell_type": "code",
      "source": [
        "!pip install newspaper3k"
      ],
      "metadata": {
        "colab": {
          "base_uri": "https://localhost:8080/"
        },
        "id": "6HS7QQQtOlAM",
        "outputId": "954a8db6-9683-4364-949e-c332dec36c1b"
      },
      "id": "6HS7QQQtOlAM",
      "execution_count": null,
      "outputs": [
        {
          "output_type": "stream",
          "name": "stdout",
          "text": [
            "Requirement already satisfied: newspaper3k in /usr/local/lib/python3.10/dist-packages (0.2.8)\n",
            "Requirement already satisfied: beautifulsoup4>=4.4.1 in /usr/local/lib/python3.10/dist-packages (from newspaper3k) (4.12.3)\n",
            "Requirement already satisfied: Pillow>=3.3.0 in /usr/local/lib/python3.10/dist-packages (from newspaper3k) (9.4.0)\n",
            "Requirement already satisfied: PyYAML>=3.11 in /usr/local/lib/python3.10/dist-packages (from newspaper3k) (6.0.2)\n",
            "Requirement already satisfied: cssselect>=0.9.2 in /usr/local/lib/python3.10/dist-packages (from newspaper3k) (1.2.0)\n",
            "Requirement already satisfied: lxml>=3.6.0 in /usr/local/lib/python3.10/dist-packages (from newspaper3k) (4.9.4)\n",
            "Requirement already satisfied: nltk>=3.2.1 in /usr/local/lib/python3.10/dist-packages (from newspaper3k) (3.8.1)\n",
            "Requirement already satisfied: requests>=2.10.0 in /usr/local/lib/python3.10/dist-packages (from newspaper3k) (2.32.3)\n",
            "Requirement already satisfied: feedparser>=5.2.1 in /usr/local/lib/python3.10/dist-packages (from newspaper3k) (6.0.11)\n",
            "Requirement already satisfied: tldextract>=2.0.1 in /usr/local/lib/python3.10/dist-packages (from newspaper3k) (5.1.2)\n",
            "Requirement already satisfied: feedfinder2>=0.0.4 in /usr/local/lib/python3.10/dist-packages (from newspaper3k) (0.0.4)\n",
            "Requirement already satisfied: jieba3k>=0.35.1 in /usr/local/lib/python3.10/dist-packages (from newspaper3k) (0.35.1)\n",
            "Requirement already satisfied: python-dateutil>=2.5.3 in /usr/local/lib/python3.10/dist-packages (from newspaper3k) (2.8.2)\n",
            "Requirement already satisfied: tinysegmenter==0.3 in /usr/local/lib/python3.10/dist-packages (from newspaper3k) (0.3)\n",
            "Requirement already satisfied: soupsieve>1.2 in /usr/local/lib/python3.10/dist-packages (from beautifulsoup4>=4.4.1->newspaper3k) (2.6)\n",
            "Requirement already satisfied: six in /usr/local/lib/python3.10/dist-packages (from feedfinder2>=0.0.4->newspaper3k) (1.16.0)\n",
            "Requirement already satisfied: sgmllib3k in /usr/local/lib/python3.10/dist-packages (from feedparser>=5.2.1->newspaper3k) (1.0.0)\n",
            "Requirement already satisfied: click in /usr/local/lib/python3.10/dist-packages (from nltk>=3.2.1->newspaper3k) (8.1.7)\n",
            "Requirement already satisfied: joblib in /usr/local/lib/python3.10/dist-packages (from nltk>=3.2.1->newspaper3k) (1.4.2)\n",
            "Requirement already satisfied: regex>=2021.8.3 in /usr/local/lib/python3.10/dist-packages (from nltk>=3.2.1->newspaper3k) (2024.5.15)\n",
            "Requirement already satisfied: tqdm in /usr/local/lib/python3.10/dist-packages (from nltk>=3.2.1->newspaper3k) (4.66.5)\n",
            "Requirement already satisfied: charset-normalizer<4,>=2 in /usr/local/lib/python3.10/dist-packages (from requests>=2.10.0->newspaper3k) (3.3.2)\n",
            "Requirement already satisfied: idna<4,>=2.5 in /usr/local/lib/python3.10/dist-packages (from requests>=2.10.0->newspaper3k) (3.8)\n",
            "Requirement already satisfied: urllib3<3,>=1.21.1 in /usr/local/lib/python3.10/dist-packages (from requests>=2.10.0->newspaper3k) (2.0.7)\n",
            "Requirement already satisfied: certifi>=2017.4.17 in /usr/local/lib/python3.10/dist-packages (from requests>=2.10.0->newspaper3k) (2024.8.30)\n",
            "Requirement already satisfied: requests-file>=1.4 in /usr/local/lib/python3.10/dist-packages (from tldextract>=2.0.1->newspaper3k) (2.1.0)\n",
            "Requirement already satisfied: filelock>=3.0.8 in /usr/local/lib/python3.10/dist-packages (from tldextract>=2.0.1->newspaper3k) (3.15.4)\n"
          ]
        }
      ]
    },
    {
      "cell_type": "code",
      "execution_count": null,
      "id": "5a116a3f-ea20-42c1-b0d1-7daca50d6d59",
      "metadata": {
        "id": "5a116a3f-ea20-42c1-b0d1-7daca50d6d59"
      },
      "outputs": [],
      "source": [
        "import openai\n",
        "from openai import OpenAI\n",
        "from pydantic import BaseModel, Field\n",
        "import json\n",
        "from newspaper import Article # import Article from newspaper3k\n",
        "from newsapi import NewsApiClient"
      ]
    },
    {
      "cell_type": "markdown",
      "id": "a6f99dbb-c094-44d8-9c15-18d4d0169370",
      "metadata": {
        "id": "a6f99dbb-c094-44d8-9c15-18d4d0169370"
      },
      "source": [
        "### Create and Initialize Client"
      ]
    },
    {
      "cell_type": "code",
      "execution_count": null,
      "id": "6b5b00f3-4ff5-4dc5-88d2-8da91b9d36b4",
      "metadata": {
        "id": "6b5b00f3-4ff5-4dc5-88d2-8da91b9d36b4"
      },
      "outputs": [],
      "source": [
        "newsapi = NewsApiClient(api_key=os.environ.get('NEWSAPI_KEY'))\n",
        "client = OpenAI()"
      ]
    },
    {
      "cell_type": "markdown",
      "id": "805c08c0-6672-4d2a-bfac-578e28fa921b",
      "metadata": {
        "id": "805c08c0-6672-4d2a-bfac-578e28fa921b"
      },
      "source": [
        "### Create Get News Without Structure"
      ]
    },
    {
      "cell_type": "code",
      "execution_count": null,
      "id": "cb5606f3-6407-4eb1-8365-88ff1e3dbc7f",
      "metadata": {
        "id": "cb5606f3-6407-4eb1-8365-88ff1e3dbc7f"
      },
      "outputs": [],
      "source": [
        "def get_news_summary_without_structure(query: str) -> str:\n",
        "    \"\"\"\n",
        "    This function searches for a news article based on the query using News API,\n",
        "    extracts the article content using the newspaper library, and summarizes it using OpenAI's GPT model\n",
        "    *without* enforcing strict adherence to a structured output schema.\n",
        "    \"\"\"\n",
        "\n",
        "    top_headlines = newsapi.get_everything(q=query,\n",
        "                                          from_param='2024-08-10',\n",
        "                                          to='2024-09-10',\n",
        "                                          language='en',\n",
        "                                          sort_by='relevancy',\n",
        "                                          page=2)\n",
        "\n",
        "    if top_headlines['status'] == 'ok' and top_headlines['articles']:\n",
        "        article_url = top_headlines['articles'][0]['url']\n",
        "        article = Article(article_url)\n",
        "        article.download()\n",
        "        article.parse()\n",
        "\n",
        "        summary_prompt = f\"Summarize the following news article in 2-3 sentences:\\n\\n{article.text}\"\n",
        "        summary_response = client.chat.completions.create(\n",
        "            model=\"gpt-3.5-turbo\",\n",
        "            messages=[\n",
        "                {\"role\": \"system\", \"content\": \"You are a helpful AI assistant that summarizes news articles.\"},\n",
        "                {\"role\": \"user\", \"content\": summary_prompt}\n",
        "            ]\n",
        "        )\n",
        "        summary = summary_response.choices[0].message.content\n",
        "\n",
        "        return summary\n",
        "\n",
        "    else:\n",
        "        print(top_headlines['status'])\n",
        "        print(top_headlines['articles'])\n",
        "        raise Exception(\"No news articles found for the given query.\")"
      ]
    },
    {
      "cell_type": "markdown",
      "id": "259bc7e6-5b8c-4ed7-a56e-9727063ae1a2",
      "metadata": {
        "id": "259bc7e6-5b8c-4ed7-a56e-9727063ae1a2"
      },
      "source": [
        "### Testing the function"
      ]
    },
    {
      "cell_type": "code",
      "execution_count": null,
      "id": "7305f192-2dc2-4c2c-8c53-6a194b6e1b78",
      "metadata": {
        "colab": {
          "base_uri": "https://localhost:8080/",
          "height": 144
        },
        "id": "7305f192-2dc2-4c2c-8c53-6a194b6e1b78",
        "outputId": "47b6e996-7baf-4cfa-9e91-154faf91d16f"
      },
      "outputs": [
        {
          "output_type": "execute_result",
          "data": {
            "text/plain": [
              "'The article discusses how the Trump-Vance and Harris-Walz presidential campaigns are approaching blue-collar workers and pro-labor groups differently. Trump is targeting the Teamsters union but has faced criticism for his labor policies, while Harris has garnered support from several pro-labor organizations. Both campaigns are emphasizing their stance on labor issues to appeal to union voters, with Harris-Walz being seen as more pro-labor compared to Trump-Vance. Union membership remains significant in the presidential race, with both campaigns vying for union support.'"
            ],
            "application/vnd.google.colaboratory.intrinsic+json": {
              "type": "string"
            }
          },
          "metadata": {},
          "execution_count": 61
        }
      ],
      "source": [
        "get_news_summary_without_structure(\"US Congress\")"
      ]
    },
    {
      "cell_type": "markdown",
      "id": "510f9bb3-7b4b-4246-bdb6-a79bd9c22255",
      "metadata": {
        "id": "510f9bb3-7b4b-4246-bdb6-a79bd9c22255"
      },
      "source": [
        "### Define Pydantic Models"
      ]
    },
    {
      "cell_type": "code",
      "execution_count": null,
      "id": "27eb3321-f8cb-4fc8-bed2-e11023129477",
      "metadata": {
        "id": "27eb3321-f8cb-4fc8-bed2-e11023129477"
      },
      "outputs": [],
      "source": [
        "class NewsSummaryRequest(BaseModel):\n",
        "    query: str = Field(..., description=\"The search query for news articles.\")\n",
        "\n",
        "class NewsSummaryResponse(BaseModel):\n",
        "    summary: str = Field(..., description=\"A concise summary of the news article.\")\n",
        "    url: str = Field(..., description=\"The URL of the news article.\")"
      ]
    },
    {
      "cell_type": "markdown",
      "id": "5823876a-e1f0-4c18-8943-b85450c5c420",
      "metadata": {
        "id": "5823876a-e1f0-4c18-8943-b85450c5c420"
      },
      "source": [
        "### Fetch and Summarize News Articles Function with Structure Outputs"
      ]
    },
    {
      "cell_type": "markdown",
      "source": [
        "# Flow #1"
      ],
      "metadata": {
        "id": "Pb-R9bXNNUQ2"
      },
      "id": "Pb-R9bXNNUQ2"
    },
    {
      "cell_type": "code",
      "execution_count": null,
      "id": "41459f14-17f5-431a-92a4-5bf3c3e7be38",
      "metadata": {
        "id": "41459f14-17f5-431a-92a4-5bf3c3e7be38"
      },
      "outputs": [],
      "source": [
        "def get_news_summary(query: str) -> NewsSummaryResponse:\n",
        "    \"\"\"\n",
        "    This function searches for a news article based on the query using News API,\n",
        "    extracts the article content using the bbc-news library, and summarizes it using OpenAI's GPT model.\n",
        "    \"\"\"\n",
        "\n",
        "    top_headlines = newsapi.get_everything(q='large language models',\n",
        "                                      from_param='2024-08-10',\n",
        "                                      to='2024-09-10',\n",
        "                                      language='en',\n",
        "                                      sort_by='relevancy',\n",
        "                                      page=2)\n",
        "\n",
        "    if top_headlines['status'] == 'ok' and top_headlines['articles']:\n",
        "        article_url = top_headlines['articles'][0]['url']\n",
        "        article = Article(article_url)\n",
        "        article.download()\n",
        "        article.parse()\n",
        "\n",
        "        summary_prompt = f\"Summarize the following news article in 2-3 sentences:\\n\\n{article.text}\"\n",
        "        summary_response = client.chat.completions.create(\n",
        "            model=\"gpt-3.5-turbo\",\n",
        "            messages=[\n",
        "                {\"role\": \"system\", \"content\": \"You are a helpful AI assistant that summarizes news articles.\"},\n",
        "                {\"role\": \"user\", \"content\": summary_prompt}\n",
        "            ]\n",
        "        )\n",
        "        summary = summary_response.choices[0].message.content\n",
        "\n",
        "        return NewsSummaryResponse(summary=summary, url=article_url)\n",
        "    else:\n",
        "        print(top_headlines['status'])\n",
        "        print(top_headlines['articles'])\n",
        "        raise Exception(\"No news articles found for the given query.\")"
      ]
    },
    {
      "cell_type": "code",
      "source": [
        "test_run = get_news_summary(\"US Congress news\")\n",
        "print(f\"Summary: {test_run.summary}\\nURL: {test_run.url}\")"
      ],
      "metadata": {
        "colab": {
          "base_uri": "https://localhost:8080/",
          "height": 405
        },
        "id": "y6Uz__QdWv1e",
        "outputId": "e3865aab-a73b-440b-988f-06c1d88469f7"
      },
      "id": "y6Uz__QdWv1e",
      "execution_count": null,
      "outputs": [
        {
          "output_type": "error",
          "ename": "ArticleException",
          "evalue": "Article `download()` failed with ('Connection aborted.', RemoteDisconnected('Remote end closed connection without response')) on URL https://www.androidpolice.com/google-pixel-9-changes-from-pixel-8/",
          "traceback": [
            "\u001b[0;31m---------------------------------------------------------------------------\u001b[0m",
            "\u001b[0;31mArticleException\u001b[0m                          Traceback (most recent call last)",
            "\u001b[0;32m<ipython-input-70-4c1961117c3e>\u001b[0m in \u001b[0;36m<cell line: 1>\u001b[0;34m()\u001b[0m\n\u001b[0;32m----> 1\u001b[0;31m \u001b[0mtest_run\u001b[0m \u001b[0;34m=\u001b[0m \u001b[0mget_news_summary\u001b[0m\u001b[0;34m(\u001b[0m\u001b[0;34m\"US Congress news\"\u001b[0m\u001b[0;34m)\u001b[0m\u001b[0;34m\u001b[0m\u001b[0;34m\u001b[0m\u001b[0m\n\u001b[0m\u001b[1;32m      2\u001b[0m \u001b[0mprint\u001b[0m\u001b[0;34m(\u001b[0m\u001b[0;34mf\"Summary: {test_run.summary}\\nURL: {test_run.url}\"\u001b[0m\u001b[0;34m)\u001b[0m\u001b[0;34m\u001b[0m\u001b[0;34m\u001b[0m\u001b[0m\n",
            "\u001b[0;32m<ipython-input-69-0f3323c2898b>\u001b[0m in \u001b[0;36mget_news_summary\u001b[0;34m(query)\u001b[0m\n\u001b[1;32m     16\u001b[0m         \u001b[0marticle\u001b[0m \u001b[0;34m=\u001b[0m \u001b[0mArticle\u001b[0m\u001b[0;34m(\u001b[0m\u001b[0marticle_url\u001b[0m\u001b[0;34m)\u001b[0m\u001b[0;34m\u001b[0m\u001b[0;34m\u001b[0m\u001b[0m\n\u001b[1;32m     17\u001b[0m         \u001b[0marticle\u001b[0m\u001b[0;34m.\u001b[0m\u001b[0mdownload\u001b[0m\u001b[0;34m(\u001b[0m\u001b[0;34m)\u001b[0m\u001b[0;34m\u001b[0m\u001b[0;34m\u001b[0m\u001b[0m\n\u001b[0;32m---> 18\u001b[0;31m         \u001b[0marticle\u001b[0m\u001b[0;34m.\u001b[0m\u001b[0mparse\u001b[0m\u001b[0;34m(\u001b[0m\u001b[0;34m)\u001b[0m\u001b[0;34m\u001b[0m\u001b[0;34m\u001b[0m\u001b[0m\n\u001b[0m\u001b[1;32m     19\u001b[0m \u001b[0;34m\u001b[0m\u001b[0m\n\u001b[1;32m     20\u001b[0m         \u001b[0msummary_prompt\u001b[0m \u001b[0;34m=\u001b[0m \u001b[0;34mf\"Summarize the following news article in 2-3 sentences:\\n\\n{article.text}\"\u001b[0m\u001b[0;34m\u001b[0m\u001b[0;34m\u001b[0m\u001b[0m\n",
            "\u001b[0;32m/usr/local/lib/python3.10/dist-packages/newspaper/article.py\u001b[0m in \u001b[0;36mparse\u001b[0;34m(self)\u001b[0m\n\u001b[1;32m    189\u001b[0m \u001b[0;34m\u001b[0m\u001b[0m\n\u001b[1;32m    190\u001b[0m     \u001b[0;32mdef\u001b[0m \u001b[0mparse\u001b[0m\u001b[0;34m(\u001b[0m\u001b[0mself\u001b[0m\u001b[0;34m)\u001b[0m\u001b[0;34m:\u001b[0m\u001b[0;34m\u001b[0m\u001b[0;34m\u001b[0m\u001b[0m\n\u001b[0;32m--> 191\u001b[0;31m         \u001b[0mself\u001b[0m\u001b[0;34m.\u001b[0m\u001b[0mthrow_if_not_downloaded_verbose\u001b[0m\u001b[0;34m(\u001b[0m\u001b[0;34m)\u001b[0m\u001b[0;34m\u001b[0m\u001b[0;34m\u001b[0m\u001b[0m\n\u001b[0m\u001b[1;32m    192\u001b[0m \u001b[0;34m\u001b[0m\u001b[0m\n\u001b[1;32m    193\u001b[0m         \u001b[0mself\u001b[0m\u001b[0;34m.\u001b[0m\u001b[0mdoc\u001b[0m \u001b[0;34m=\u001b[0m \u001b[0mself\u001b[0m\u001b[0;34m.\u001b[0m\u001b[0mconfig\u001b[0m\u001b[0;34m.\u001b[0m\u001b[0mget_parser\u001b[0m\u001b[0;34m(\u001b[0m\u001b[0;34m)\u001b[0m\u001b[0;34m.\u001b[0m\u001b[0mfromstring\u001b[0m\u001b[0;34m(\u001b[0m\u001b[0mself\u001b[0m\u001b[0;34m.\u001b[0m\u001b[0mhtml\u001b[0m\u001b[0;34m)\u001b[0m\u001b[0;34m\u001b[0m\u001b[0;34m\u001b[0m\u001b[0m\n",
            "\u001b[0;32m/usr/local/lib/python3.10/dist-packages/newspaper/article.py\u001b[0m in \u001b[0;36mthrow_if_not_downloaded_verbose\u001b[0;34m(self)\u001b[0m\n\u001b[1;32m    529\u001b[0m             \u001b[0;32mraise\u001b[0m \u001b[0mArticleException\u001b[0m\u001b[0;34m(\u001b[0m\u001b[0;34m'You must `download()` an article first!'\u001b[0m\u001b[0;34m)\u001b[0m\u001b[0;34m\u001b[0m\u001b[0;34m\u001b[0m\u001b[0m\n\u001b[1;32m    530\u001b[0m         \u001b[0;32melif\u001b[0m \u001b[0mself\u001b[0m\u001b[0;34m.\u001b[0m\u001b[0mdownload_state\u001b[0m \u001b[0;34m==\u001b[0m \u001b[0mArticleDownloadState\u001b[0m\u001b[0;34m.\u001b[0m\u001b[0mFAILED_RESPONSE\u001b[0m\u001b[0;34m:\u001b[0m\u001b[0;34m\u001b[0m\u001b[0;34m\u001b[0m\u001b[0m\n\u001b[0;32m--> 531\u001b[0;31m             raise ArticleException('Article `download()` failed with %s on URL %s' %\n\u001b[0m\u001b[1;32m    532\u001b[0m                   (self.download_exception_msg, self.url))\n\u001b[1;32m    533\u001b[0m \u001b[0;34m\u001b[0m\u001b[0m\n",
            "\u001b[0;31mArticleException\u001b[0m: Article `download()` failed with ('Connection aborted.', RemoteDisconnected('Remote end closed connection without response')) on URL https://www.androidpolice.com/google-pixel-9-changes-from-pixel-8/"
          ]
        }
      ]
    },
    {
      "cell_type": "code",
      "execution_count": null,
      "id": "41edcc70-3dd6-4fc2-97b5-0c3882f7b312",
      "metadata": {
        "id": "41edcc70-3dd6-4fc2-97b5-0c3882f7b312"
      },
      "outputs": [],
      "source": [
        "## Wrap the get_news_summary function in Pydantic Model\n",
        "class NewsSummaryTool(BaseModel):\n",
        "    def __call__(self, query: str) -> NewsSummaryResponse:\n",
        "        return get_news_summary(query)"
      ]
    },
    {
      "cell_type": "code",
      "execution_count": null,
      "id": "a57a3eb2-fc72-4a90-80c7-85e4e8b088b2",
      "metadata": {
        "id": "a57a3eb2-fc72-4a90-80c7-85e4e8b088b2"
      },
      "outputs": [],
      "source": [
        "## create tool with wrapper model\n",
        "tools = [openai.pydantic_function_tool(\n",
        "    NewsSummaryTool, name=\"get_news_summary\", description=\"Get a summary of a news article based on a query\")\n",
        "        ]"
      ]
    },
    {
      "cell_type": "markdown",
      "id": "b06d429b-5f09-44ac-84f4-3616d2b46114",
      "metadata": {
        "id": "b06d429b-5f09-44ac-84f4-3616d2b46114"
      },
      "source": [
        "### Setup the messages array"
      ]
    },
    {
      "cell_type": "code",
      "execution_count": null,
      "id": "c827b31c-cc50-4039-871a-567e66ddfd5c",
      "metadata": {
        "id": "c827b31c-cc50-4039-871a-567e66ddfd5c"
      },
      "outputs": [],
      "source": [
        "messages = [\n",
        "    {\n",
        "        \"role\": \"system\",\n",
        "        \"content\": \"\"\"\n",
        "        You are a helpful assistant that can summarize news articles. Use the supplied tools to assist the user.\n",
        "        When using a tool, provide all the necessary arguments in a JSON format within the 'arguments' field of the tool call.\n",
        "        For example, to use the 'get_news_summary' tool,\n",
        "        provide the 'query' argument like this: {'query': 'latest news about Artificial Intelligence'}.\n",
        "        \"\"\"\n",
        "    },\n",
        "    {\n",
        "        \"role\": \"user\",\n",
        "        \"content\": \"Summarize the latest news on US Congress\"\n",
        "    }\n",
        "]"
      ]
    },
    {
      "cell_type": "markdown",
      "id": "4afdf9cb-fc4f-4042-8c82-24cd61bd815e",
      "metadata": {
        "id": "4afdf9cb-fc4f-4042-8c82-24cd61bd815e"
      },
      "source": [
        "### Make the initial API call"
      ]
    },
    {
      "cell_type": "code",
      "execution_count": null,
      "id": "c8bbaa11-769b-49af-8dd6-281c82124efe",
      "metadata": {
        "id": "c8bbaa11-769b-49af-8dd6-281c82124efe"
      },
      "outputs": [],
      "source": [
        "response = client.chat.completions.create(\n",
        "    model='gpt-4',\n",
        "    messages=messages,\n",
        "    tools=tools,\n",
        "    tool_choice={\n",
        "        \"type\": \"function\",\n",
        "        \"function\": {\n",
        "            \"name\": \"get_news_summary\"\n",
        "        },\n",
        "        \"strict\": True\n",
        "    }\n",
        ")"
      ]
    },
    {
      "cell_type": "code",
      "source": [
        "result = response.choices[0].message.content\n",
        "print(result)"
      ],
      "metadata": {
        "colab": {
          "base_uri": "https://localhost:8080/"
        },
        "id": "fDpM7TyiVd6K",
        "outputId": "a91a4cab-9ca4-4ad4-9786-f84fc2251610"
      },
      "id": "fDpM7TyiVd6K",
      "execution_count": null,
      "outputs": [
        {
          "output_type": "stream",
          "name": "stdout",
          "text": [
            "None\n"
          ]
        }
      ]
    },
    {
      "cell_type": "markdown",
      "id": "034c084d-754f-47ec-aaab-6637aab65830",
      "metadata": {
        "id": "034c084d-754f-47ec-aaab-6637aab65830"
      },
      "source": [
        "### Test the applicaiton (Check if the model wants to use a tool)"
      ]
    },
    {
      "cell_type": "code",
      "execution_count": null,
      "id": "f6c0ffbd-8e3b-442a-af70-229487e6ee4f",
      "metadata": {
        "colab": {
          "base_uri": "https://localhost:8080/"
        },
        "id": "f6c0ffbd-8e3b-442a-af70-229487e6ee4f",
        "outputId": "0416b94f-8a2f-46f9-b556-02b47d567a4b"
      },
      "outputs": [
        {
          "output_type": "stream",
          "name": "stdout",
          "text": [
            "An error occurred: Article `download()` failed with ('Connection aborted.', RemoteDisconnected('Remote end closed connection without response')) on URL https://www.androidpolice.com/google-pixel-9-changes-from-pixel-8/\n"
          ]
        }
      ],
      "source": [
        "if response.choices[0].message.tool_calls:\n",
        "    tool_call = response.choices[0].message.tool_calls[0]\n",
        "    function_name = tool_call.function.name\n",
        "    arguments = json.loads(tool_call.function.arguments)\n",
        "\n",
        "    try:\n",
        "        news_summary = get_news_summary(arguments['query'])\n",
        "\n",
        "        function_call_result_message = {\n",
        "            \"role\": \"tool\",\n",
        "            \"name\": function_name,\n",
        "            \"content\": news_summary.model_dump_json(),\n",
        "            \"tool_call_id\": tool_call.id\n",
        "        }\n",
        "\n",
        "        messages.append(response.choices[0].message)\n",
        "        messages.append(function_call_result_message)\n",
        "\n",
        "        final_response = client.chat.completions.create(\n",
        "            model='gpt-4o-2024-08-06',\n",
        "            messages=messages\n",
        "        )\n",
        "\n",
        "        print(final_response.choices[0].message.content)\n",
        "\n",
        "    except Exception as e:\n",
        "        print(f\"An error occurred: {str(e)}\")\n",
        "else:\n",
        "    print(response.choices[0].message.content)"
      ]
    },
    {
      "cell_type": "code",
      "execution_count": null,
      "id": "65c98522-d8d5-4c20-a521-1cfc33e5c5ad",
      "metadata": {
        "id": "65c98522-d8d5-4c20-a521-1cfc33e5c5ad"
      },
      "outputs": [],
      "source": []
    },
    {
      "cell_type": "code",
      "execution_count": null,
      "id": "82516027-74ae-4216-ab1e-de558061afc4",
      "metadata": {
        "id": "82516027-74ae-4216-ab1e-de558061afc4"
      },
      "outputs": [],
      "source": []
    },
    {
      "cell_type": "code",
      "execution_count": null,
      "id": "c549c37a-d686-4350-80a2-3a5030997736",
      "metadata": {
        "id": "c549c37a-d686-4350-80a2-3a5030997736"
      },
      "outputs": [],
      "source": []
    },
    {
      "cell_type": "code",
      "execution_count": null,
      "id": "178b55dd-45e4-4619-84c1-efa56401b39a",
      "metadata": {
        "id": "178b55dd-45e4-4619-84c1-efa56401b39a"
      },
      "outputs": [],
      "source": []
    },
    {
      "cell_type": "code",
      "execution_count": null,
      "id": "7d9ec91c-b0e1-47d2-945a-fd78544f9637",
      "metadata": {
        "id": "7d9ec91c-b0e1-47d2-945a-fd78544f9637"
      },
      "outputs": [],
      "source": []
    },
    {
      "cell_type": "code",
      "execution_count": null,
      "id": "b7760751-6ecf-435b-a0bd-7b546de4711e",
      "metadata": {
        "id": "b7760751-6ecf-435b-a0bd-7b546de4711e"
      },
      "outputs": [],
      "source": []
    },
    {
      "cell_type": "code",
      "execution_count": null,
      "id": "9c8dc98c-5c32-4950-afe6-17845a40dc37",
      "metadata": {
        "id": "9c8dc98c-5c32-4950-afe6-17845a40dc37"
      },
      "outputs": [],
      "source": []
    },
    {
      "cell_type": "code",
      "execution_count": null,
      "id": "4f442f3d-5223-4b65-afc5-1ddee6593341",
      "metadata": {
        "id": "4f442f3d-5223-4b65-afc5-1ddee6593341"
      },
      "outputs": [],
      "source": []
    },
    {
      "cell_type": "code",
      "execution_count": null,
      "id": "0fb3fb96-8485-4dd1-b1ca-799b058e6cad",
      "metadata": {
        "id": "0fb3fb96-8485-4dd1-b1ca-799b058e6cad"
      },
      "outputs": [],
      "source": []
    },
    {
      "cell_type": "code",
      "execution_count": null,
      "id": "6960b20a-7064-4ea8-9c50-69af1fe57ec7",
      "metadata": {
        "id": "6960b20a-7064-4ea8-9c50-69af1fe57ec7"
      },
      "outputs": [],
      "source": []
    },
    {
      "cell_type": "code",
      "execution_count": null,
      "id": "eb3be63e-d1b8-4aec-84f7-bdff8dba6a33",
      "metadata": {
        "id": "eb3be63e-d1b8-4aec-84f7-bdff8dba6a33"
      },
      "outputs": [],
      "source": []
    },
    {
      "cell_type": "code",
      "execution_count": null,
      "id": "16d9c477-256e-47e2-b579-eaede898aae2",
      "metadata": {
        "id": "16d9c477-256e-47e2-b579-eaede898aae2"
      },
      "outputs": [],
      "source": []
    },
    {
      "cell_type": "code",
      "execution_count": null,
      "id": "95d59ba5-c3ad-4c6e-99a4-713466d4c7ba",
      "metadata": {
        "id": "95d59ba5-c3ad-4c6e-99a4-713466d4c7ba"
      },
      "outputs": [],
      "source": []
    },
    {
      "cell_type": "code",
      "execution_count": null,
      "id": "f4f673c4-5326-4581-81fa-72ec537bbead",
      "metadata": {
        "id": "f4f673c4-5326-4581-81fa-72ec537bbead"
      },
      "outputs": [],
      "source": []
    },
    {
      "cell_type": "code",
      "execution_count": null,
      "id": "48279617-de62-4a5e-bfa7-b2f89be28f52",
      "metadata": {
        "id": "48279617-de62-4a5e-bfa7-b2f89be28f52"
      },
      "outputs": [],
      "source": []
    },
    {
      "cell_type": "code",
      "execution_count": null,
      "id": "1205c785-f77e-4c00-8e4f-c11e9f282dd2",
      "metadata": {
        "id": "1205c785-f77e-4c00-8e4f-c11e9f282dd2"
      },
      "outputs": [],
      "source": []
    },
    {
      "cell_type": "code",
      "execution_count": null,
      "id": "31fdd204-c313-4125-990e-e8eabe60cec9",
      "metadata": {
        "id": "31fdd204-c313-4125-990e-e8eabe60cec9"
      },
      "outputs": [],
      "source": []
    },
    {
      "cell_type": "code",
      "execution_count": null,
      "id": "28fb32f9-64e0-422b-851c-7282b170c904",
      "metadata": {
        "id": "28fb32f9-64e0-422b-851c-7282b170c904"
      },
      "outputs": [],
      "source": []
    },
    {
      "cell_type": "code",
      "execution_count": null,
      "id": "3f0805bb-26cd-4fb8-92fc-7a89b708c7d0",
      "metadata": {
        "id": "3f0805bb-26cd-4fb8-92fc-7a89b708c7d0"
      },
      "outputs": [],
      "source": []
    },
    {
      "cell_type": "code",
      "execution_count": null,
      "id": "f46389ae-6f32-4490-b3ca-9e2fac6c158f",
      "metadata": {
        "id": "f46389ae-6f32-4490-b3ca-9e2fac6c158f"
      },
      "outputs": [],
      "source": []
    }
  ],
  "metadata": {
    "kernelspec": {
      "display_name": "Python 3 (ipykernel)",
      "language": "python",
      "name": "python3"
    },
    "language_info": {
      "codemirror_mode": {
        "name": "ipython",
        "version": 3
      },
      "file_extension": ".py",
      "mimetype": "text/x-python",
      "name": "python",
      "nbconvert_exporter": "python",
      "pygments_lexer": "ipython3",
      "version": "3.11.7"
    },
    "colab": {
      "provenance": [],
      "include_colab_link": true
    }
  },
  "nbformat": 4,
  "nbformat_minor": 5
}